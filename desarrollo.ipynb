{
 "cells": [
  {
   "cell_type": "code",
   "execution_count": 18,
   "metadata": {},
   "outputs": [
    {
     "name": "stdout",
     "output_type": "stream",
     "text": [
      "1100\n"
     ]
    }
   ],
   "source": [
    "## 1:\n",
    "numero = 12\n",
    "## 1:\n",
    "if type(numero) == int and numero >= 0:\n",
    "    resto_lista = []\n",
    "    while numero >= 1: \n",
    "        resto = numero % 2\n",
    "        resto_lista.append(str(resto))\n",
    "        numero = numero // 2 \n",
    "    resto_lista.reverse()\n",
    "    resto_n = \"\".join(resto_lista)\n",
    "    return int(resto_n)\n",
    "    \n",
    "else:\n",
    "    print(None)"
   ]
  },
  {
   "cell_type": "code",
   "execution_count": null,
   "metadata": {},
   "outputs": [],
   "source": [
    "m = [int(i) for i in resto_lista]\n",
    "    n= \"\".join(map(str,m)) \n",
    "    print( int(\"\".join(resto_lista)))\n",
    "    print()"
   ]
  },
  {
   "cell_type": "code",
   "execution_count": 36,
   "metadata": {},
   "outputs": [
    {
     "name": "stdout",
     "output_type": "stream",
     "text": [
      "[2, 1, 1, -6]\n"
     ]
    }
   ],
   "source": [
    "## 2\n",
    "lista = [2,4,1,-3]\n",
    "## 2\n",
    "lista_nueva = []\n",
    "for element in lista:\n",
    "    \n",
    "    if element>=2 and element % 2 ==0:\n",
    "        elemento_nuevo = element//2\n",
    "        lista_nueva.append(elemento_nuevo)\n",
    "    elif element < 0:\n",
    "        elemento_nuevo = element*2\n",
    "        lista_nueva.append(elemento_nuevo)\n",
    "    else:\n",
    "        elemento_nuevo = element \n",
    "        lista_nueva.append(elemento_nuevo) \n",
    "\n",
    "lista_nueva_ordenada = sorted((lista_nueva),reverse = True)\n",
    "print(lista_nueva_ordenada)"
   ]
  },
  {
   "cell_type": "code",
   "execution_count": null,
   "metadata": {},
   "outputs": [],
   "source": [
    "   '''\n",
    "   La función recibe como argumento una lista de números enteros, y debe retornar un diccionario con tres claves,\n",
    "    \"multiplos3\", 'cuadrados\", \"menores_promedio\".\n",
    "   Para la clave \"multiplos3\", el valor debe ser una lista con los múltiplos de 3 de la lista original.\n",
    "   Para la clave \"cuadrados\", el valor debe ser una lista con los valores de la lista original elevados \n",
    "   al cuadrado.\n",
    "   Para la clave \"menores_promedio\", el valor debe ser una lista con los valores menores al\n",
    "    promedio de la lista original.\n",
    "   EJ: crearDiccionario([3,6,7,12]): debe retornar: {'multiplos3': [3, 6, 12],\n",
    "   'cuadrados': [9, 36, 49, 144], 'menores_promedio': [3, 6]}\n",
    "   '''\n",
    "   #Tu código acá\n",
    "   return 'Funcion incompleta'"
   ]
  },
  {
   "cell_type": "code",
   "execution_count": 38,
   "metadata": {},
   "outputs": [
    {
     "data": {
      "text/plain": [
       "8"
      ]
     },
     "execution_count": 38,
     "metadata": {},
     "output_type": "execute_result"
    }
   ],
   "source": [
    "2**3"
   ]
  },
  {
   "cell_type": "code",
   "execution_count": 3,
   "metadata": {},
   "outputs": [
    {
     "name": "stdout",
     "output_type": "stream",
     "text": [
      "{'multiplos3': [3, 6, 12], 'cuadrados': [9, 36, 49, 144], 'menores_promedio': [3, 6]}\n"
     ]
    }
   ],
   "source": [
    "## 3:\n",
    "lista = [3,6,7,12]\n",
    "## 3:\n",
    "diccionario = {\"multiplos3\": [] , \"cuadrados\":[]  , \"menores_promedio\": [] }\n",
    "promedio = sum(lista)/len(lista)\n",
    "for numero in lista:\n",
    "    diccionario[\"cuadrados\"].append(numero ** 2)\n",
    "    if numero % 3 ==0:\n",
    "        diccionario[\"multiplos3\"].append(numero)\n",
    "    if numero < promedio:\n",
    "        diccionario[\"menores_promedio\"].append(numero)\n",
    "print(diccionario)\n",
    "\n"
   ]
  },
  {
   "cell_type": "code",
   "execution_count": 13,
   "metadata": {},
   "outputs": [
    {
     "name": "stdout",
     "output_type": "stream",
     "text": [
      "True\n"
     ]
    }
   ],
   "source": [
    "##triangulorectangulo:\n",
    "   #Tu código acá\n",
    "a=3\n",
    "b=4\n",
    "c=5\n",
    "if type(a)==int:\n",
    "   if type(b)==int and type(c)==int:\n",
    "      if c**2 == b**2 + a**2:\n",
    "         print( True)\n",
    "      else: \n",
    "         print(False)\n",
    "   else:\n",
    "      print('Nulo')\n",
    "else:\n",
    "   print(None)\n",
    "\n",
    " "
   ]
  },
  {
   "cell_type": "code",
   "execution_count": null,
   "metadata": {},
   "outputs": [],
   "source": [
    "   '''\n",
    "   Dado el siguiente diccionario ciudades, la función debe retornar una lista de listas, \n",
    "   donde cada elemento de la lista sea una lista con el par ['ciudad', población], \n",
    "   pero sólo de las ciudades que comiencen con la letra 'B', y como último elemento de la lista \n",
    "   el par ['promedio', promedio de población] con el promedio de población de las ciudades seleccionadas.\n",
    "   Ej: Si se pidiera ciudades que comiencen con la letra 'S', debe devolver: [['São Paulo', 21048514], \n",
    "   ['Santiago de Chile', 7112808],['promedio', 14080661.0]]\n",
    "\n",
    "   ciudades = {\n",
    "      'São Paulo': 21048514,\n",
    "      'Buenos Aires': 14975587,\n",
    "      'Río de Janeiro': 11902701,\n",
    "      'Bogotá': 10777931,\n",
    "      'Lima': 10479899,\n",
    "      'Santiago de Chile': 7112808,\n",
    "      'Belo Horizonte': 6006091,\n",
    "      'Caracas': 5622798,\n",
    "      'Brasília': 4291577\n",
    "      }\n",
    "      Pista: investigar método de string startswith()\n",
    "   '''\n",
    "   #Tu código acá\n",
    "   return 'Funcion incompleta'"
   ]
  },
  {
   "cell_type": "code",
   "execution_count": 18,
   "metadata": {},
   "outputs": [
    {
     "data": {
      "text/plain": [
       "14080661.0"
      ]
     },
     "execution_count": 18,
     "metadata": {},
     "output_type": "execute_result"
    }
   ],
   "source": [
    "(21048514 + 7112808)/2"
   ]
  },
  {
   "cell_type": "code",
   "execution_count": 8,
   "metadata": {},
   "outputs": [
    {
     "name": "stdout",
     "output_type": "stream",
     "text": [
      "[['Buenos Aires', 14975587], ['Bogotá', 10777931], ['Belo Horizonte', 6006091], ['Brasília', 4291577], ['promedio', 9012796.5]]\n"
     ]
    }
   ],
   "source": [
    "ciudades = {\n",
    "      'São Paulo': 21048514,\n",
    "      'Buenos Aires': 14975587,\n",
    "      'Río de Janeiro': 11902701,\n",
    "      'Bogotá': 10777931,\n",
    "      'Lima': 10479899,\n",
    "      'Santiago de Chile': 7112808,\n",
    "      'Belo Horizonte': 6006091,\n",
    "      'Caracas': 5622798,\n",
    "      'Brasília': 4291577}\n",
    "\n",
    "lista_pedida = []\n",
    "acumulador = 0\n",
    "for key, value in ciudades.items():\n",
    "      if key.startswith('B')== True:\n",
    "            lista_pedida.append([key, value])\n",
    "            acumulador = acumulador + value\n",
    "promedio = acumulador/len(lista_pedida)     \n",
    "lista_pedida.append(['promedio', promedio])\n",
    "return lista_pedida\n",
    "\n",
    "\n",
    "      "
   ]
  },
  {
   "cell_type": "code",
   "execution_count": 14,
   "metadata": {},
   "outputs": [
    {
     "name": "stdout",
     "output_type": "stream",
     "text": [
      "a\n",
      "b\n",
      "c\n"
     ]
    }
   ],
   "source": [
    "mi_dict = {'a':1, 'b':2, 'c':3}\n",
    "for i in mi_dict:\n",
    "    print(i)"
   ]
  },
  {
   "cell_type": "code",
   "execution_count": 23,
   "metadata": {},
   "outputs": [
    {
     "name": "stdout",
     "output_type": "stream",
     "text": [
      "True\n"
     ]
    }
   ],
   "source": [
    "text = \"Python is easy to learn.\"\n",
    "result = text.startswith('Python is ')\n",
    "# returns True\n",
    "print(result)"
   ]
  },
  {
   "cell_type": "code",
   "execution_count": 89,
   "metadata": {},
   "outputs": [
    {
     "name": "stdout",
     "output_type": "stream",
     "text": [
      "Amigo-Hola-Mundo\n"
     ]
    }
   ],
   "source": [
    "# ordena palabras:6:\n",
    "palabras = 'Hola-Mundo-Amigo'\n",
    "## ordena palabras:\n",
    "k ='-' in palabras \n",
    "if k ==True:\n",
    "    lista_palabras = palabras.split('-')\n",
    "    lista_palabras.sort()\n",
    "    lista_oficial = \"-\".join(lista_palabras)\n",
    "    print(lista_oficial)\n",
    "   \n",
    "\n",
    "else:\n",
    "    print(None)"
   ]
  },
  {
   "cell_type": "code",
   "execution_count": 16,
   "metadata": {},
   "outputs": [
    {
     "name": "stdout",
     "output_type": "stream",
     "text": [
      "None\n"
     ]
    }
   ],
   "source": [
    "##la ultima función\n",
    "texto = \"Hoy\"\n",
    "#desde aki:\n",
    "if len(texto)>3:\n",
    "    cadena_invertida = \"\"\n",
    "    texto[::-1]\n",
    "    for letra in texto:\n",
    "        cadena_invertida = letra + cadena_invertida\n",
    "    return cadena_invertida\n",
    "else:\n",
    "    return None\n"
   ]
  }
 ],
 "metadata": {
  "kernelspec": {
   "display_name": "base",
   "language": "python",
   "name": "python3"
  },
  "language_info": {
   "codemirror_mode": {
    "name": "ipython",
    "version": 3
   },
   "file_extension": ".py",
   "mimetype": "text/x-python",
   "name": "python",
   "nbconvert_exporter": "python",
   "pygments_lexer": "ipython3",
   "version": "3.9.7"
  },
  "orig_nbformat": 4
 },
 "nbformat": 4,
 "nbformat_minor": 2
}
